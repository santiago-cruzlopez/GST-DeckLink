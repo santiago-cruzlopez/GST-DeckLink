{
 "cells": [
  {
   "cell_type": "markdown",
   "id": "b7248202",
   "metadata": {},
   "source": [
    "## GStreamer DeckLink\n",
    "\n",
    "- https://gstreamer.freedesktop.org/documentation/installing/on-linux.html?gi-language=c\n",
    "\n",
    "conda activate swappr\n",
    "\n",
    "sudo apt-get install libgstreamer1.0-dev libgstreamer-plugins-base1.0-dev libgstreamer-plugins-bad1.0-dev gstreamer1.0-plugins-base gstreamer1.0-plugins-good gstreamer1.0-plugins-bad gstreamer1.0-plugins-ugly gstreamer1.0-libav gstreamer1.0-tools gstreamer1.0-x gstreamer1.0-alsa gstreamer1.0-gl gstreamer1.0-gtk3 gstreamer1.0-qt5 gstreamer1.0-pulseaudio\n",
    "\n",
    "sudo apt install python3-gi gir1.2-gstreamer-1.0\n",
    "\n",
    "conda install -c conda-forge gstreamer gst-plugins-base gst-plugins-good gst-plugins-bad gst-plugins-ugly gst-libav gst-python pygobject\n",
    "\n",
    "- https://github.com/GStreamer/gstreamer/tree/main/subprojects/gst-docs/examples \n",
    "\n",
    "Repositories:\n",
    "- https://github.com/Julusian/decklink-rs"
   ]
  },
  {
   "cell_type": "code",
   "execution_count": null,
   "id": "bed67185",
   "metadata": {},
   "outputs": [],
   "source": [
    "import sys\n",
    "import gi\n",
    "\n",
    "gi.require_version('GLib', '2.0')\n",
    "gi.require_version('GObject', '2.0')\n",
    "gi.require_version('Gst', '1.0')\n",
    "\n",
    "from gi.repository import Gst, GObject, GLib\n",
    "\n",
    "pipeline = None\n",
    "bus = None\n",
    "message = None\n",
    "\n",
    "# initialize GStreamer\n",
    "Gst.init(sys.argv[1:])\n",
    "\n",
    "# build the pipeline\n",
    "pipeline = Gst.parse_launch(\n",
    "    \"playbin uri=https://gstreamer.freedesktop.org/data/media/sintel_trailer-480p.webm\"\n",
    ")\n",
    "\n",
    "# start playing\n",
    "pipeline.set_state(Gst.State.PLAYING)\n",
    "\n",
    "# wait until EOS or error\n",
    "bus = pipeline.get_bus()\n",
    "msg = bus.timed_pop_filtered(\n",
    "    Gst.CLOCK_TIME_NONE,\n",
    "    Gst.MessageType.ERROR | Gst.MessageType.EOS\n",
    ")\n",
    "\n",
    "# free resources\n",
    "pipeline.set_state(Gst.State.NULL)"
   ]
  },
  {
   "cell_type": "markdown",
   "id": "afd1fda6",
   "metadata": {},
   "source": [
    "**DeckLink Duo Info:**\n",
    "- **device-number** = 0 (0x00000000)\n",
    "- **model-name** = \"DeckLink\\ Duo\\ 2\"\n",
    "- **display-name** = \"DeckLink\\ Duo\\ \\(1\\)\"\n",
    "- **max-channels** = 16 (0x00000010)\n",
    "- **supports-format-detection** = true | gst-launch-1.0 decklinkvideosrc\n",
    "- **Video Source**: `decklinkvideosrc`\n",
    "- **Video Mode**: `1080p59.94` (1920x1080, progressive, 59.94 fps)\n",
    "- **Pixel Format**: `8-bit YUV 4:2:2` (UYVY)\n",
    "- **Audio Source**: `decklinkaudiosrc`\n",
    "- **Output**: Video frames are converted to `BGR` format for easy use with libraries like OpenCV and NumPy. Audio is captured as raw samples.\n",
    "\n",
    "Run this commmand: \n",
    "- gst-inspect-1.0 decklink\n",
    "- gst-device-monitor-1.0 Video/Source"
   ]
  },
  {
   "cell_type": "code",
   "execution_count": 1,
   "id": "8bb724d4",
   "metadata": {},
   "outputs": [
    {
     "name": "stdout",
     "output_type": "stream",
     "text": [
      "GStreamer initialized.\n"
     ]
    }
   ],
   "source": [
    "import sys\n",
    "import gi\n",
    "gi.require_version('Gst', '1.0')\n",
    "from gi.repository import Gst, GLib\n",
    "\n",
    "Gst.init(None)\n",
    "print(\"GStreamer initialized.\")"
   ]
  },
  {
   "cell_type": "markdown",
   "id": "fbe34522",
   "metadata": {},
   "source": [
    "### Blackmagic DeckLink - Video/Audio Specs"
   ]
  },
  {
   "cell_type": "code",
   "execution_count": 2,
   "id": "005e5126",
   "metadata": {},
   "outputs": [
    {
     "name": "stdout",
     "output_type": "stream",
     "text": [
      "Device 0: DeckLink Duo (1) (Video Capture)\n",
      "Device 1: DeckLink Duo (2) (Video Capture)\n",
      "Device 2: DeckLink Duo (3) (Video Capture)\n",
      "Device 3: DeckLink Duo (4) (Video Capture)\n"
     ]
    }
   ],
   "source": [
    "# List All DeckLink Devices\n",
    "\n",
    "def list_decklink_devices():\n",
    "    device_monitor = Gst.DeviceMonitor()\n",
    "    device_monitor.add_filter(\"Video/Source\", None)\n",
    "    device_monitor.start()\n",
    "    devices = device_monitor.get_devices()\n",
    "    decklink_devices = []\n",
    "    for dev in devices:\n",
    "        if 'decklink' in dev.get_display_name().lower():\n",
    "            decklink_devices.append(dev)\n",
    "    device_monitor.stop()\n",
    "    return decklink_devices\n",
    "\n",
    "decklink_devices = list_decklink_devices()\n",
    "\n",
    "if decklink_devices:\n",
    "    for idx, dev in enumerate(decklink_devices):\n",
    "        print(f\"Device {idx}: {dev.get_display_name()}\")\n",
    "else:\n",
    "    print(\"No DeckLink devices found.\")\n"
   ]
  },
  {
   "cell_type": "code",
   "execution_count": 3,
   "id": "da93fd56",
   "metadata": {},
   "outputs": [
    {
     "name": "stdout",
     "output_type": "stream",
     "text": [
      "\n",
      "Capabilities for device: DeckLink Duo (1) (Video Capture)\n",
      "  video/x-raw, width=(int)720, height=(int)486, pixel-aspect-ratio=(fraction)10/11, interlace-mode=(string)interleaved, framerate=(fraction)30000/1001;\n",
      "  video/x-raw, width=(int)720, height=(int)576, pixel-aspect-ratio=(fraction)12/11, interlace-mode=(string)interleaved, framerate=(fraction)25/1;\n",
      "  video/x-raw, width=(int)1920, height=(int)1080, pixel-aspect-ratio=(fraction)1/1, interlace-mode=(string)progressive, framerate=(fraction)24000/1001;\n",
      "  video/x-raw, width=(int)1920, height=(int)1080, pixel-aspect-ratio=(fraction)1/1, interlace-mode=(string)progressive, framerate=(fraction)24/1;\n",
      "  video/x-raw, width=(int)1920, height=(int)1080, pixel-aspect-ratio=(fraction)1/1, interlace-mode=(string)progressive, framerate=(fraction)25/1;\n",
      "  video/x-raw, width=(int)1920, height=(int)1080, pixel-aspect-ratio=(fraction)1/1, interlace-mode=(string)progressive, framerate=(fraction)30000/1001;\n",
      "  video/x-raw, width=(int)1920, height=(int)1080, pixel-aspect-ratio=(fraction)1/1, interlace-mode=(string)progressive, framerate=(fraction)30/1;\n",
      "  video/x-raw, width=(int)1920, height=(int)1080, pixel-aspect-ratio=(fraction)1/1, interlace-mode=(string)progressive, framerate=(fraction)50/1;\n",
      "  video/x-raw, width=(int)1920, height=(int)1080, pixel-aspect-ratio=(fraction)1/1, interlace-mode=(string)progressive, framerate=(fraction)60000/1001;\n",
      "  video/x-raw, width=(int)1920, height=(int)1080, pixel-aspect-ratio=(fraction)1/1, interlace-mode=(string)progressive, framerate=(fraction)60/1;\n",
      "  video/x-raw, width=(int)1920, height=(int)1080, pixel-aspect-ratio=(fraction)1/1, interlace-mode=(string)interleaved, framerate=(fraction)25/1;\n",
      "  video/x-raw, width=(int)1920, height=(int)1080, pixel-aspect-ratio=(fraction)1/1, interlace-mode=(string)interleaved, framerate=(fraction)30000/1001;\n",
      "  video/x-raw, width=(int)1920, height=(int)1080, pixel-aspect-ratio=(fraction)1/1, interlace-mode=(string)interleaved, framerate=(fraction)30/1;\n",
      "  video/x-raw, width=(int)1280, height=(int)720, pixel-aspect-ratio=(fraction)1/1, interlace-mode=(string)progressive, framerate=(fraction)50/1;\n",
      "  video/x-raw, width=(int)1280, height=(int)720, pixel-aspect-ratio=(fraction)1/1, interlace-mode=(string)progressive, framerate=(fraction)60000/1001;\n",
      "  video/x-raw, width=(int)1280, height=(int)720, pixel-aspect-ratio=(fraction)1/1, interlace-mode=(string)progressive, framerate=(fraction)60/1;\n"
     ]
    }
   ],
   "source": [
    "# Video Modes and Pixel Formats\n",
    "\n",
    "def print_device_caps(device):\n",
    "    print(f\"\\nCapabilities for device: {device.get_display_name()}\")\n",
    "    vid_caps = device.get_caps()\n",
    "    for i in range(vid_caps.get_size()):\n",
    "        structure = vid_caps.get_structure(i)\n",
    "        print(f\"  {structure.to_string()}\")\n",
    "\n",
    "if decklink_devices:\n",
    "    print_device_caps(decklink_devices[0])\n",
    "else:\n",
    "    print(\"No DeckLink device to query.\")\n"
   ]
  },
  {
   "cell_type": "code",
   "execution_count": 4,
   "id": "d762c88b",
   "metadata": {},
   "outputs": [
    {
     "name": "stdout",
     "output_type": "stream",
     "text": [
      "\n",
      "Audio Capabilities for: DeckLink Duo (1) (Audio Capture)\n",
      "  audio/x-raw, format=(string){ S16LE, S32LE }, channels=(int){ 2, 8, 16 }, rate=(int)48000, layout=(string)interleaved;\n",
      "\n",
      "Audio Capabilities for: DeckLink Duo (2) (Audio Capture)\n",
      "  audio/x-raw, format=(string){ S16LE, S32LE }, channels=(int){ 2, 8, 16 }, rate=(int)48000, layout=(string)interleaved;\n",
      "\n",
      "Audio Capabilities for: DeckLink Duo (3) (Audio Capture)\n",
      "  audio/x-raw, format=(string){ S16LE, S32LE }, channels=(int){ 2, 8, 16 }, rate=(int)48000, layout=(string)interleaved;\n",
      "\n",
      "Audio Capabilities for: DeckLink Duo (4) (Audio Capture)\n",
      "  audio/x-raw, format=(string){ S16LE, S32LE }, channels=(int){ 2, 8, 16 }, rate=(int)48000, layout=(string)interleaved;\n"
     ]
    }
   ],
   "source": [
    "# Audio Capture Settings\n",
    "\n",
    "def list_decklink_audio_caps():\n",
    "    # DeviceMonitor for audio sources\n",
    "    device_monitor = Gst.DeviceMonitor()\n",
    "    device_monitor.add_filter(\"Audio/Source\", None)\n",
    "    device_monitor.start()\n",
    "    devices = device_monitor.get_devices()\n",
    "    for dev in devices:\n",
    "        if 'decklink' in dev.get_display_name().lower():\n",
    "            print(f\"\\nAudio Capabilities for: {dev.get_display_name()}\")\n",
    "            caps = dev.get_caps()\n",
    "            for i in range(caps.get_size()):\n",
    "                structure = caps.get_structure(i)\n",
    "                print(f\"  {structure.to_string()}\")\n",
    "    device_monitor.stop()\n",
    "\n",
    "list_decklink_audio_caps()"
   ]
  },
  {
   "cell_type": "markdown",
   "id": "94e0534b",
   "metadata": {},
   "source": [
    "##### VideoSource (1080i5994) - GStreamer Basic Pipeline\n",
    "\n",
    "gst-launch-1.0 decklinkvideosrc device-number=1 connection=sdi mode=1080i5994 ! decklinkvideosink device-number=0 mode=1080i5994 decklinkaudiosrc device-number=1 ! decklinkaudiosink device-number=0"
   ]
  },
  {
   "cell_type": "markdown",
   "id": "7819ce1a",
   "metadata": {},
   "source": [
    "##### VideoSource (1080p5994) - GStreamer Basic Pipeline\n",
    "\n",
    "gst-launch-1.0 decklinkvideosrc device-number=1 connection=sdi mode=1080p5994 ! decklinkvideosink device-number=0 mode=1080p5994 decklinkaudiosrc device-number=1 ! decklinkaudiosink device-number=0"
   ]
  },
  {
   "cell_type": "markdown",
   "id": "25abd1a2",
   "metadata": {},
   "source": [
    "#### Input[1]: 1080P59.94 -> 1-sec buffer -> CPU(Proccessing) -> 1-sec buffer -> Output: 1080p29.97 - BGRA\n",
    "\n",
    "gst-launch-1.0 decklinkvideosrc device-number=1 mode=1080p5994 drop-no-signal-frames=true ! videorate ! queue leaky=downstream max-size-buffers=0 max-size-bytes=0 max-size-time=1000000000 ! videoconvert ! video/x-raw,format=BGRA,width=1920,height=1080,interlace-mode=progressive,framerate=30000/1001 ! queue leaky=downstream max-size-buffers=0 max-size-bytes=0 max-size-time=1000000000 ! decklinkvideosink device-number=0 mode=1080p2997 sync=false video-format=8bit-bgra decklinkaudiosrc device-number=1 ! queue leaky=downstream max-size-buffers=0 max-size-bytes=0 max-size-time=1000000000 ! queue leaky=downstream max-size-buffers=0 max-size-bytes=0 max-size-time=1000000000 ! decklinkaudiosink device-number=0 sync=false"
   ]
  },
  {
   "cell_type": "markdown",
   "id": "89150f9e",
   "metadata": {},
   "source": [
    "#### GPU CUDA Input[1]: 1080P59.94 -> 1-sec buffer -> GPU(CUDA) -> 1-sec buffer -> Output: 1080p29.97 - BGRA\n",
    "\n",
    "gst-launch-1.0 decklinkvideosrc device-number=1 connection=sdi mode=1080p5994 ! queue max-size-time=1000000000 name=input_buffer ! videoconvert ! video/x-raw,format=BGRA,width=1920,height=1080 ! cudaupload ! cudaconvert ! video/x-raw\\(memory:CUDAMemory\\),format=BGRA ! identity name=gpu_processing ! cudadownload ! queue max-size-time=1000000000 name=output_buffer ! videorate ! video/x-raw,format=BGRA,width=1920,height=1080,framerate=30000/1001 ! videoconvert ! decklinkvideosink device-number=0 mode=1080p2997 decklinkaudiosrc device-number=1 ! queue max-size-time=1000000000 ! decklinkaudiosink device-number=0"
   ]
  },
  {
   "cell_type": "markdown",
   "id": "5368305c",
   "metadata": {},
   "source": [
    "GST_DEBUG_DUMP_DOT_DIR=./ gst-launch-1.0 decklinkvideosrc device-number=1 connection=sdi mode=1080p5994 ! queue max-size-time=1000000000 name=input_buffer ! videoconvert ! video/x-raw,format=BGRA,width=1920,height=1080 ! cudaupload ! cudaconvert ! video/x-raw\\(memory:CUDAMemory\\),format=BGRA ! identity name=gpu_processing ! cudadownload ! queue max-size-time=1000000000 name=output_buffer ! videorate ! video/x-raw,format=BGRA,width=1920,height=1080,framerate=30000/1001 ! videoconvert ! decklinkvideosink device-number=0 mode=1080p2997 decklinkaudiosrc device-number=1 ! queue max-size-time=1000000000 ! decklinkaudiosink device-number=0"
   ]
  },
  {
   "cell_type": "markdown",
   "id": "6fc59e41",
   "metadata": {},
   "source": [
    "dot -Tsvg 0.00.54.920377760-gst-launch.PLAYING_PAUSED.dot -o 05_in-gpu-out.svg"
   ]
  }
 ],
 "metadata": {
  "kernelspec": {
   "display_name": "swappr",
   "language": "python",
   "name": "python3"
  },
  "language_info": {
   "codemirror_mode": {
    "name": "ipython",
    "version": 3
   },
   "file_extension": ".py",
   "mimetype": "text/x-python",
   "name": "python",
   "nbconvert_exporter": "python",
   "pygments_lexer": "ipython3",
   "version": "3.10.18"
  }
 },
 "nbformat": 4,
 "nbformat_minor": 5
}
